{
 "cells": [
  {
   "cell_type": "code",
   "execution_count": 2,
   "metadata": {},
   "outputs": [
    {
     "name": "stdout",
     "output_type": "stream",
     "text": [
      "Please give me a number put a comma and type another number11,22\n",
      "Please give me a number put a comma and type another number11,99\n",
      "please, type 1 for addition 2 for subtraction 3 for multiplication and 4 for division4\n",
      "The division of The two fractions is 9/2\n",
      "Thank You\n"
     ]
    }
   ],
   "source": [
    "'''\n",
    "Name           :       Calcuator of fractions\n",
    "Developed by    :       Nevan Kanungo\n",
    "    \n",
    "This programme asks the user to enter two fractions and the mathematical operation the programme should \n",
    "perform on the given numbers. Then the programme calculates and returns the result to the user.\n",
    "'''\n",
    "#This statement imports the word fraction from th file fraction\n",
    "from fractions import Fraction\n",
    "#The below 2 sentences ask the use to give a numerator put a comma and type the denominator\n",
    "A = input ('Please give me a number put a comma and type another number')\n",
    "B = input ('Please give me a number put a comma and type another number')\n",
    "#This line of code asks the user which calculation of the two fractions they want\n",
    "Calculation = input ('please, type 1 for addition 2 for subtraction 3 for multiplication and 4 for division')\n",
    "A = A.split (',')    \n",
    "Numerator = int(A[0])\n",
    "Denominator = int(A[1])\n",
    "f1 = Fraction(Numerator,Denominator)\n",
    "B = B.split (',')\n",
    "Numerator1 = int(B[0])\n",
    "Denominator1 =int(B[1])\n",
    "f2 = Fraction(Numerator1,Denominator1)\n",
    "if Calculation == '1':    \n",
    "    Result = f1 + f2\n",
    "    print ('The addition of The two fractions is' ,Result)\n",
    "elif Calculation == '2':\n",
    "    Result = f1 - f2\n",
    "    print ('The subtraction of The two fractions is' ,Result)\n",
    "elif Calculation == '3': \n",
    "    Result = f1 * f2\n",
    "    print ('The multiplication of The two fractions is' ,Result)\n",
    "elif Calculation == '4': \n",
    "    Result = f1 / f2\n",
    "    print ('The division of The two fractions is' ,Result)\n",
    "else:\n",
    "    ('please dont type any number except  1   2   3   and   4')\n",
    "print ('Thank You')"
   ]
  },
  {
   "cell_type": "code",
   "execution_count": null,
   "metadata": {},
   "outputs": [],
   "source": []
  },
  {
   "cell_type": "code",
   "execution_count": null,
   "metadata": {},
   "outputs": [],
   "source": []
  }
 ],
 "metadata": {
  "kernelspec": {
   "display_name": "Python 3",
   "language": "python",
   "name": "python3"
  },
  "language_info": {
   "codemirror_mode": {
    "name": "ipython",
    "version": 3
   },
   "file_extension": ".py",
   "mimetype": "text/x-python",
   "name": "python",
   "nbconvert_exporter": "python",
   "pygments_lexer": "ipython3",
   "version": "3.7.6"
  }
 },
 "nbformat": 4,
 "nbformat_minor": 4
}
