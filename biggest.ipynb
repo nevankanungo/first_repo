{
  "nbformat": 4,
  "nbformat_minor": 0,
  "metadata": {
    "colab": {
      "name": "biggest.ipynb",
      "provenance": [],
      "collapsed_sections": []
    },
    "kernelspec": {
      "name": "python3",
      "display_name": "Python 3"
    },
    "language_info": {
      "name": "python"
    }
  },
  "cells": [
    {
      "cell_type": "code",
      "metadata": {
        "colab": {
          "base_uri": "https://localhost:8080/"
        },
        "id": "t3MhrgoAMTUz",
        "outputId": "8ffd5068-d403-46bd-914f-4f875b3c936d"
      },
      "source": [
        "'''\n",
        "Program : To Find The Largest Number among three given numbers\n",
        "Developed By : Nevan Kanungo\n",
        "Date : 24/5/2021\n",
        "\n",
        "'''\n",
        "#this gives instruction to user\n",
        "print ('Instruction : Please input three numbers, remember no two numbers must be the same , but all three can be same ')\n",
        "#This asks user to input a number\n",
        "a = int(input ('please give me a number a :'))\n",
        "b = int(input ('plese give me another number b:  '))\n",
        "c = int(input ('plese give me the third number c: '))\n",
        "#This gives conditions for compairing the numbers\n",
        "if a==b==c:\n",
        "  print(' All the Numbers are same')\n",
        "\n",
        "elif  a > b:\n",
        "  if a > c:\n",
        "    print ('a')\n",
        "  else:\n",
        "     print ('c')\n",
        "\n",
        "else:\n",
        "  if b > c:\n",
        "    print ('b')\n",
        "  else:\n",
        "    print (\"c\")\n"
      ],
      "execution_count": 4,
      "outputs": [
        {
          "output_type": "stream",
          "text": [
            "Instruction : Please input three numbers, remember no two numbers must be the same , but all three can be same \n",
            "please give me a number a :12\n",
            "plese give me another number b:  11\n",
            "plese give me the third number c: 12\n",
            "c\n"
          ],
          "name": "stdout"
        }
      ]
    }
  ]
}